{
 "cells": [
  {
   "cell_type": "code",
   "execution_count": 1,
   "id": "d23f4b2e",
   "metadata": {
    "_cell_guid": "b1076dfc-b9ad-4769-8c92-a6c4dae69d19",
    "_uuid": "8f2839f25d086af736a60e9eeb907d3b93b6e0e5",
    "execution": {
     "iopub.execute_input": "2025-01-24T15:01:04.673030Z",
     "iopub.status.busy": "2025-01-24T15:01:04.672535Z",
     "iopub.status.idle": "2025-01-24T15:01:08.757083Z",
     "shell.execute_reply": "2025-01-24T15:01:08.755983Z"
    },
    "papermill": {
     "duration": 4.094276,
     "end_time": "2025-01-24T15:01:08.759132",
     "exception": false,
     "start_time": "2025-01-24T15:01:04.664856",
     "status": "completed"
    },
    "tags": []
   },
   "outputs": [],
   "source": [
    "import pandas as pd\n",
    "import numpy as np\n",
    "import seaborn as sns\n",
    "import matplotlib.pyplot as plt\n",
    "from sklearn.preprocessing import StandardScaler, LabelEncoder\n",
    "from sklearn.model_selection import train_test_split, GridSearchCV\n",
    "from sklearn.linear_model import Lasso\n",
    "from sklearn.metrics import mean_squared_error, r2_score"
   ]
  },
  {
   "cell_type": "markdown",
   "id": "17a99de9",
   "metadata": {
    "papermill": {
     "duration": 0.005331,
     "end_time": "2025-01-24T15:01:08.770509",
     "exception": false,
     "start_time": "2025-01-24T15:01:08.765178",
     "status": "completed"
    },
    "tags": []
   },
   "source": [
    "# EDA"
   ]
  },
  {
   "cell_type": "code",
   "execution_count": 2,
   "id": "8a5b4548",
   "metadata": {
    "execution": {
     "iopub.execute_input": "2025-01-24T15:01:08.782157Z",
     "iopub.status.busy": "2025-01-24T15:01:08.781646Z",
     "iopub.status.idle": "2025-01-24T15:01:08.806763Z",
     "shell.execute_reply": "2025-01-24T15:01:08.805728Z"
    },
    "papermill": {
     "duration": 0.033186,
     "end_time": "2025-01-24T15:01:08.808835",
     "exception": false,
     "start_time": "2025-01-24T15:01:08.775649",
     "status": "completed"
    },
    "tags": []
   },
   "outputs": [],
   "source": [
    "data = pd.read_csv(r'/kaggle/input/student-final-grade-prediction-multi-lin-reg/student-mat.csv')"
   ]
  },
  {
   "cell_type": "code",
   "execution_count": 3,
   "id": "42b5bb60",
   "metadata": {
    "execution": {
     "iopub.execute_input": "2025-01-24T15:01:08.820261Z",
     "iopub.status.busy": "2025-01-24T15:01:08.819933Z",
     "iopub.status.idle": "2025-01-24T15:01:08.841361Z",
     "shell.execute_reply": "2025-01-24T15:01:08.840227Z"
    },
    "papermill": {
     "duration": 0.02917,
     "end_time": "2025-01-24T15:01:08.843166",
     "exception": false,
     "start_time": "2025-01-24T15:01:08.813996",
     "status": "completed"
    },
    "tags": []
   },
   "outputs": [
    {
     "data": {
      "text/plain": [
       "school                      0\n",
       "sex                         0\n",
       "age                         0\n",
       "address                     0\n",
       "famsize                     0\n",
       "Parrent_status              0\n",
       "Mother_edu                  0\n",
       "Father_edu                  0\n",
       "Mother_job                  0\n",
       "Father_job                  0\n",
       "reason_to_chose_school      0\n",
       "guardian                    0\n",
       "traveltime                  0\n",
       "weekly_studytime            0\n",
       "failures                    0\n",
       "extra_edu_supp              0\n",
       "family_edu_supp             0\n",
       "extra_paid_class            0\n",
       "extra_curr_activities       0\n",
       "nursery                     0\n",
       "Interested_in_higher_edu    0\n",
       "internet_access             0\n",
       "romantic_relationship       0\n",
       "Family_quality_reln         0\n",
       "freetime_after_school       0\n",
       "goout_with_friends          0\n",
       "workday_alcohol_consum      0\n",
       "weekend_alcohol_consum      0\n",
       "health_status               0\n",
       "absences                    0\n",
       "G1                          0\n",
       "G2                          0\n",
       "G3                          0\n",
       "dtype: int64"
      ]
     },
     "execution_count": 3,
     "metadata": {},
     "output_type": "execute_result"
    }
   ],
   "source": [
    "data.isnull().sum()"
   ]
  },
  {
   "cell_type": "code",
   "execution_count": 4,
   "id": "7490c76d",
   "metadata": {
    "execution": {
     "iopub.execute_input": "2025-01-24T15:01:08.855299Z",
     "iopub.status.busy": "2025-01-24T15:01:08.854966Z",
     "iopub.status.idle": "2025-01-24T15:01:08.918433Z",
     "shell.execute_reply": "2025-01-24T15:01:08.917243Z"
    },
    "papermill": {
     "duration": 0.071441,
     "end_time": "2025-01-24T15:01:08.920206",
     "exception": false,
     "start_time": "2025-01-24T15:01:08.848765",
     "status": "completed"
    },
    "tags": []
   },
   "outputs": [
    {
     "data": {
      "text/html": [
       "<div>\n",
       "<style scoped>\n",
       "    .dataframe tbody tr th:only-of-type {\n",
       "        vertical-align: middle;\n",
       "    }\n",
       "\n",
       "    .dataframe tbody tr th {\n",
       "        vertical-align: top;\n",
       "    }\n",
       "\n",
       "    .dataframe thead th {\n",
       "        text-align: right;\n",
       "    }\n",
       "</style>\n",
       "<table border=\"1\" class=\"dataframe\">\n",
       "  <thead>\n",
       "    <tr style=\"text-align: right;\">\n",
       "      <th></th>\n",
       "      <th>count</th>\n",
       "      <th>mean</th>\n",
       "      <th>std</th>\n",
       "      <th>min</th>\n",
       "      <th>25%</th>\n",
       "      <th>50%</th>\n",
       "      <th>75%</th>\n",
       "      <th>max</th>\n",
       "    </tr>\n",
       "  </thead>\n",
       "  <tbody>\n",
       "    <tr>\n",
       "      <th>age</th>\n",
       "      <td>395.0</td>\n",
       "      <td>16.696203</td>\n",
       "      <td>1.276043</td>\n",
       "      <td>15.0</td>\n",
       "      <td>16.0</td>\n",
       "      <td>17.0</td>\n",
       "      <td>18.0</td>\n",
       "      <td>22.0</td>\n",
       "    </tr>\n",
       "    <tr>\n",
       "      <th>Mother_edu</th>\n",
       "      <td>395.0</td>\n",
       "      <td>2.749367</td>\n",
       "      <td>1.094735</td>\n",
       "      <td>0.0</td>\n",
       "      <td>2.0</td>\n",
       "      <td>3.0</td>\n",
       "      <td>4.0</td>\n",
       "      <td>4.0</td>\n",
       "    </tr>\n",
       "    <tr>\n",
       "      <th>Father_edu</th>\n",
       "      <td>395.0</td>\n",
       "      <td>2.521519</td>\n",
       "      <td>1.088201</td>\n",
       "      <td>0.0</td>\n",
       "      <td>2.0</td>\n",
       "      <td>2.0</td>\n",
       "      <td>3.0</td>\n",
       "      <td>4.0</td>\n",
       "    </tr>\n",
       "    <tr>\n",
       "      <th>traveltime</th>\n",
       "      <td>395.0</td>\n",
       "      <td>1.448101</td>\n",
       "      <td>0.697505</td>\n",
       "      <td>1.0</td>\n",
       "      <td>1.0</td>\n",
       "      <td>1.0</td>\n",
       "      <td>2.0</td>\n",
       "      <td>4.0</td>\n",
       "    </tr>\n",
       "    <tr>\n",
       "      <th>weekly_studytime</th>\n",
       "      <td>395.0</td>\n",
       "      <td>2.035443</td>\n",
       "      <td>0.839240</td>\n",
       "      <td>1.0</td>\n",
       "      <td>1.0</td>\n",
       "      <td>2.0</td>\n",
       "      <td>2.0</td>\n",
       "      <td>4.0</td>\n",
       "    </tr>\n",
       "    <tr>\n",
       "      <th>failures</th>\n",
       "      <td>395.0</td>\n",
       "      <td>0.334177</td>\n",
       "      <td>0.743651</td>\n",
       "      <td>0.0</td>\n",
       "      <td>0.0</td>\n",
       "      <td>0.0</td>\n",
       "      <td>0.0</td>\n",
       "      <td>3.0</td>\n",
       "    </tr>\n",
       "    <tr>\n",
       "      <th>Family_quality_reln</th>\n",
       "      <td>395.0</td>\n",
       "      <td>3.944304</td>\n",
       "      <td>0.896659</td>\n",
       "      <td>1.0</td>\n",
       "      <td>4.0</td>\n",
       "      <td>4.0</td>\n",
       "      <td>5.0</td>\n",
       "      <td>5.0</td>\n",
       "    </tr>\n",
       "    <tr>\n",
       "      <th>freetime_after_school</th>\n",
       "      <td>395.0</td>\n",
       "      <td>3.235443</td>\n",
       "      <td>0.998862</td>\n",
       "      <td>1.0</td>\n",
       "      <td>3.0</td>\n",
       "      <td>3.0</td>\n",
       "      <td>4.0</td>\n",
       "      <td>5.0</td>\n",
       "    </tr>\n",
       "    <tr>\n",
       "      <th>goout_with_friends</th>\n",
       "      <td>395.0</td>\n",
       "      <td>3.108861</td>\n",
       "      <td>1.113278</td>\n",
       "      <td>1.0</td>\n",
       "      <td>2.0</td>\n",
       "      <td>3.0</td>\n",
       "      <td>4.0</td>\n",
       "      <td>5.0</td>\n",
       "    </tr>\n",
       "    <tr>\n",
       "      <th>workday_alcohol_consum</th>\n",
       "      <td>395.0</td>\n",
       "      <td>1.481013</td>\n",
       "      <td>0.890741</td>\n",
       "      <td>1.0</td>\n",
       "      <td>1.0</td>\n",
       "      <td>1.0</td>\n",
       "      <td>2.0</td>\n",
       "      <td>5.0</td>\n",
       "    </tr>\n",
       "    <tr>\n",
       "      <th>weekend_alcohol_consum</th>\n",
       "      <td>395.0</td>\n",
       "      <td>2.291139</td>\n",
       "      <td>1.287897</td>\n",
       "      <td>1.0</td>\n",
       "      <td>1.0</td>\n",
       "      <td>2.0</td>\n",
       "      <td>3.0</td>\n",
       "      <td>5.0</td>\n",
       "    </tr>\n",
       "    <tr>\n",
       "      <th>health_status</th>\n",
       "      <td>395.0</td>\n",
       "      <td>3.554430</td>\n",
       "      <td>1.390303</td>\n",
       "      <td>1.0</td>\n",
       "      <td>3.0</td>\n",
       "      <td>4.0</td>\n",
       "      <td>5.0</td>\n",
       "      <td>5.0</td>\n",
       "    </tr>\n",
       "    <tr>\n",
       "      <th>absences</th>\n",
       "      <td>395.0</td>\n",
       "      <td>5.708861</td>\n",
       "      <td>8.003096</td>\n",
       "      <td>0.0</td>\n",
       "      <td>0.0</td>\n",
       "      <td>4.0</td>\n",
       "      <td>8.0</td>\n",
       "      <td>75.0</td>\n",
       "    </tr>\n",
       "    <tr>\n",
       "      <th>G1</th>\n",
       "      <td>395.0</td>\n",
       "      <td>10.908861</td>\n",
       "      <td>3.319195</td>\n",
       "      <td>3.0</td>\n",
       "      <td>8.0</td>\n",
       "      <td>11.0</td>\n",
       "      <td>13.0</td>\n",
       "      <td>19.0</td>\n",
       "    </tr>\n",
       "    <tr>\n",
       "      <th>G2</th>\n",
       "      <td>395.0</td>\n",
       "      <td>10.713924</td>\n",
       "      <td>3.761505</td>\n",
       "      <td>0.0</td>\n",
       "      <td>9.0</td>\n",
       "      <td>11.0</td>\n",
       "      <td>13.0</td>\n",
       "      <td>19.0</td>\n",
       "    </tr>\n",
       "    <tr>\n",
       "      <th>G3</th>\n",
       "      <td>395.0</td>\n",
       "      <td>10.415190</td>\n",
       "      <td>4.581443</td>\n",
       "      <td>0.0</td>\n",
       "      <td>8.0</td>\n",
       "      <td>11.0</td>\n",
       "      <td>14.0</td>\n",
       "      <td>20.0</td>\n",
       "    </tr>\n",
       "  </tbody>\n",
       "</table>\n",
       "</div>"
      ],
      "text/plain": [
       "                        count       mean       std   min   25%   50%   75%  \\\n",
       "age                     395.0  16.696203  1.276043  15.0  16.0  17.0  18.0   \n",
       "Mother_edu              395.0   2.749367  1.094735   0.0   2.0   3.0   4.0   \n",
       "Father_edu              395.0   2.521519  1.088201   0.0   2.0   2.0   3.0   \n",
       "traveltime              395.0   1.448101  0.697505   1.0   1.0   1.0   2.0   \n",
       "weekly_studytime        395.0   2.035443  0.839240   1.0   1.0   2.0   2.0   \n",
       "failures                395.0   0.334177  0.743651   0.0   0.0   0.0   0.0   \n",
       "Family_quality_reln     395.0   3.944304  0.896659   1.0   4.0   4.0   5.0   \n",
       "freetime_after_school   395.0   3.235443  0.998862   1.0   3.0   3.0   4.0   \n",
       "goout_with_friends      395.0   3.108861  1.113278   1.0   2.0   3.0   4.0   \n",
       "workday_alcohol_consum  395.0   1.481013  0.890741   1.0   1.0   1.0   2.0   \n",
       "weekend_alcohol_consum  395.0   2.291139  1.287897   1.0   1.0   2.0   3.0   \n",
       "health_status           395.0   3.554430  1.390303   1.0   3.0   4.0   5.0   \n",
       "absences                395.0   5.708861  8.003096   0.0   0.0   4.0   8.0   \n",
       "G1                      395.0  10.908861  3.319195   3.0   8.0  11.0  13.0   \n",
       "G2                      395.0  10.713924  3.761505   0.0   9.0  11.0  13.0   \n",
       "G3                      395.0  10.415190  4.581443   0.0   8.0  11.0  14.0   \n",
       "\n",
       "                         max  \n",
       "age                     22.0  \n",
       "Mother_edu               4.0  \n",
       "Father_edu               4.0  \n",
       "traveltime               4.0  \n",
       "weekly_studytime         4.0  \n",
       "failures                 3.0  \n",
       "Family_quality_reln      5.0  \n",
       "freetime_after_school    5.0  \n",
       "goout_with_friends       5.0  \n",
       "workday_alcohol_consum   5.0  \n",
       "weekend_alcohol_consum   5.0  \n",
       "health_status            5.0  \n",
       "absences                75.0  \n",
       "G1                      19.0  \n",
       "G2                      19.0  \n",
       "G3                      20.0  "
      ]
     },
     "execution_count": 4,
     "metadata": {},
     "output_type": "execute_result"
    }
   ],
   "source": [
    "data.describe().T"
   ]
  },
  {
   "cell_type": "code",
   "execution_count": 5,
   "id": "049e281e",
   "metadata": {
    "execution": {
     "iopub.execute_input": "2025-01-24T15:01:08.937948Z",
     "iopub.status.busy": "2025-01-24T15:01:08.937347Z",
     "iopub.status.idle": "2025-01-24T15:01:08.969643Z",
     "shell.execute_reply": "2025-01-24T15:01:08.967960Z"
    },
    "papermill": {
     "duration": 0.043226,
     "end_time": "2025-01-24T15:01:08.971966",
     "exception": false,
     "start_time": "2025-01-24T15:01:08.928740",
     "status": "completed"
    },
    "tags": []
   },
   "outputs": [
    {
     "name": "stdout",
     "output_type": "stream",
     "text": [
      "<class 'pandas.core.frame.DataFrame'>\n",
      "RangeIndex: 395 entries, 0 to 394\n",
      "Data columns (total 33 columns):\n",
      " #   Column                    Non-Null Count  Dtype \n",
      "---  ------                    --------------  ----- \n",
      " 0   school                    395 non-null    object\n",
      " 1   sex                       395 non-null    object\n",
      " 2   age                       395 non-null    int64 \n",
      " 3   address                   395 non-null    object\n",
      " 4   famsize                   395 non-null    object\n",
      " 5   Parrent_status            395 non-null    object\n",
      " 6   Mother_edu                395 non-null    int64 \n",
      " 7   Father_edu                395 non-null    int64 \n",
      " 8   Mother_job                395 non-null    object\n",
      " 9   Father_job                395 non-null    object\n",
      " 10  reason_to_chose_school    395 non-null    object\n",
      " 11  guardian                  395 non-null    object\n",
      " 12  traveltime                395 non-null    int64 \n",
      " 13  weekly_studytime          395 non-null    int64 \n",
      " 14  failures                  395 non-null    int64 \n",
      " 15  extra_edu_supp            395 non-null    object\n",
      " 16  family_edu_supp           395 non-null    object\n",
      " 17  extra_paid_class          395 non-null    object\n",
      " 18  extra_curr_activities     395 non-null    object\n",
      " 19  nursery                   395 non-null    object\n",
      " 20  Interested_in_higher_edu  395 non-null    object\n",
      " 21  internet_access           395 non-null    object\n",
      " 22  romantic_relationship     395 non-null    object\n",
      " 23  Family_quality_reln       395 non-null    int64 \n",
      " 24  freetime_after_school     395 non-null    int64 \n",
      " 25  goout_with_friends        395 non-null    int64 \n",
      " 26  workday_alcohol_consum    395 non-null    int64 \n",
      " 27  weekend_alcohol_consum    395 non-null    int64 \n",
      " 28  health_status             395 non-null    int64 \n",
      " 29  absences                  395 non-null    int64 \n",
      " 30  G1                        395 non-null    int64 \n",
      " 31  G2                        395 non-null    int64 \n",
      " 32  G3                        395 non-null    int64 \n",
      "dtypes: int64(16), object(17)\n",
      "memory usage: 102.0+ KB\n"
     ]
    }
   ],
   "source": [
    "data.info()"
   ]
  },
  {
   "cell_type": "code",
   "execution_count": 6,
   "id": "89cfe568",
   "metadata": {
    "execution": {
     "iopub.execute_input": "2025-01-24T15:01:08.986515Z",
     "iopub.status.busy": "2025-01-24T15:01:08.986116Z",
     "iopub.status.idle": "2025-01-24T15:01:09.008388Z",
     "shell.execute_reply": "2025-01-24T15:01:09.007451Z"
    },
    "papermill": {
     "duration": 0.030415,
     "end_time": "2025-01-24T15:01:09.009938",
     "exception": false,
     "start_time": "2025-01-24T15:01:08.979523",
     "status": "completed"
    },
    "tags": []
   },
   "outputs": [
    {
     "data": {
      "text/html": [
       "<div>\n",
       "<style scoped>\n",
       "    .dataframe tbody tr th:only-of-type {\n",
       "        vertical-align: middle;\n",
       "    }\n",
       "\n",
       "    .dataframe tbody tr th {\n",
       "        vertical-align: top;\n",
       "    }\n",
       "\n",
       "    .dataframe thead th {\n",
       "        text-align: right;\n",
       "    }\n",
       "</style>\n",
       "<table border=\"1\" class=\"dataframe\">\n",
       "  <thead>\n",
       "    <tr style=\"text-align: right;\">\n",
       "      <th></th>\n",
       "      <th>school</th>\n",
       "      <th>sex</th>\n",
       "      <th>age</th>\n",
       "      <th>address</th>\n",
       "      <th>famsize</th>\n",
       "      <th>Parrent_status</th>\n",
       "      <th>Mother_edu</th>\n",
       "      <th>Father_edu</th>\n",
       "      <th>Mother_job</th>\n",
       "      <th>Father_job</th>\n",
       "      <th>...</th>\n",
       "      <th>Family_quality_reln</th>\n",
       "      <th>freetime_after_school</th>\n",
       "      <th>goout_with_friends</th>\n",
       "      <th>workday_alcohol_consum</th>\n",
       "      <th>weekend_alcohol_consum</th>\n",
       "      <th>health_status</th>\n",
       "      <th>absences</th>\n",
       "      <th>G1</th>\n",
       "      <th>G2</th>\n",
       "      <th>G3</th>\n",
       "    </tr>\n",
       "  </thead>\n",
       "  <tbody>\n",
       "    <tr>\n",
       "      <th>0</th>\n",
       "      <td>GP</td>\n",
       "      <td>F</td>\n",
       "      <td>18</td>\n",
       "      <td>U</td>\n",
       "      <td>GT3</td>\n",
       "      <td>A</td>\n",
       "      <td>4</td>\n",
       "      <td>4</td>\n",
       "      <td>at_home</td>\n",
       "      <td>teacher</td>\n",
       "      <td>...</td>\n",
       "      <td>4</td>\n",
       "      <td>3</td>\n",
       "      <td>4</td>\n",
       "      <td>1</td>\n",
       "      <td>1</td>\n",
       "      <td>3</td>\n",
       "      <td>6</td>\n",
       "      <td>5</td>\n",
       "      <td>6</td>\n",
       "      <td>6</td>\n",
       "    </tr>\n",
       "    <tr>\n",
       "      <th>1</th>\n",
       "      <td>GP</td>\n",
       "      <td>F</td>\n",
       "      <td>17</td>\n",
       "      <td>U</td>\n",
       "      <td>GT3</td>\n",
       "      <td>T</td>\n",
       "      <td>1</td>\n",
       "      <td>1</td>\n",
       "      <td>at_home</td>\n",
       "      <td>other</td>\n",
       "      <td>...</td>\n",
       "      <td>5</td>\n",
       "      <td>3</td>\n",
       "      <td>3</td>\n",
       "      <td>1</td>\n",
       "      <td>1</td>\n",
       "      <td>3</td>\n",
       "      <td>4</td>\n",
       "      <td>5</td>\n",
       "      <td>5</td>\n",
       "      <td>6</td>\n",
       "    </tr>\n",
       "    <tr>\n",
       "      <th>2</th>\n",
       "      <td>GP</td>\n",
       "      <td>F</td>\n",
       "      <td>15</td>\n",
       "      <td>U</td>\n",
       "      <td>LE3</td>\n",
       "      <td>T</td>\n",
       "      <td>1</td>\n",
       "      <td>1</td>\n",
       "      <td>at_home</td>\n",
       "      <td>other</td>\n",
       "      <td>...</td>\n",
       "      <td>4</td>\n",
       "      <td>3</td>\n",
       "      <td>2</td>\n",
       "      <td>2</td>\n",
       "      <td>3</td>\n",
       "      <td>3</td>\n",
       "      <td>10</td>\n",
       "      <td>7</td>\n",
       "      <td>8</td>\n",
       "      <td>10</td>\n",
       "    </tr>\n",
       "    <tr>\n",
       "      <th>3</th>\n",
       "      <td>GP</td>\n",
       "      <td>F</td>\n",
       "      <td>15</td>\n",
       "      <td>U</td>\n",
       "      <td>GT3</td>\n",
       "      <td>T</td>\n",
       "      <td>4</td>\n",
       "      <td>2</td>\n",
       "      <td>health</td>\n",
       "      <td>services</td>\n",
       "      <td>...</td>\n",
       "      <td>3</td>\n",
       "      <td>2</td>\n",
       "      <td>2</td>\n",
       "      <td>1</td>\n",
       "      <td>1</td>\n",
       "      <td>5</td>\n",
       "      <td>2</td>\n",
       "      <td>15</td>\n",
       "      <td>14</td>\n",
       "      <td>15</td>\n",
       "    </tr>\n",
       "    <tr>\n",
       "      <th>4</th>\n",
       "      <td>GP</td>\n",
       "      <td>F</td>\n",
       "      <td>16</td>\n",
       "      <td>U</td>\n",
       "      <td>GT3</td>\n",
       "      <td>T</td>\n",
       "      <td>3</td>\n",
       "      <td>3</td>\n",
       "      <td>other</td>\n",
       "      <td>other</td>\n",
       "      <td>...</td>\n",
       "      <td>4</td>\n",
       "      <td>3</td>\n",
       "      <td>2</td>\n",
       "      <td>1</td>\n",
       "      <td>2</td>\n",
       "      <td>5</td>\n",
       "      <td>4</td>\n",
       "      <td>6</td>\n",
       "      <td>10</td>\n",
       "      <td>10</td>\n",
       "    </tr>\n",
       "  </tbody>\n",
       "</table>\n",
       "<p>5 rows × 33 columns</p>\n",
       "</div>"
      ],
      "text/plain": [
       "  school sex  age address famsize Parrent_status  Mother_edu  Father_edu  \\\n",
       "0     GP   F   18       U     GT3              A           4           4   \n",
       "1     GP   F   17       U     GT3              T           1           1   \n",
       "2     GP   F   15       U     LE3              T           1           1   \n",
       "3     GP   F   15       U     GT3              T           4           2   \n",
       "4     GP   F   16       U     GT3              T           3           3   \n",
       "\n",
       "  Mother_job Father_job  ... Family_quality_reln freetime_after_school  \\\n",
       "0    at_home    teacher  ...                   4                     3   \n",
       "1    at_home      other  ...                   5                     3   \n",
       "2    at_home      other  ...                   4                     3   \n",
       "3     health   services  ...                   3                     2   \n",
       "4      other      other  ...                   4                     3   \n",
       "\n",
       "   goout_with_friends  workday_alcohol_consum  weekend_alcohol_consum  \\\n",
       "0                   4                       1                       1   \n",
       "1                   3                       1                       1   \n",
       "2                   2                       2                       3   \n",
       "3                   2                       1                       1   \n",
       "4                   2                       1                       2   \n",
       "\n",
       "  health_status absences  G1  G2  G3  \n",
       "0             3        6   5   6   6  \n",
       "1             3        4   5   5   6  \n",
       "2             3       10   7   8  10  \n",
       "3             5        2  15  14  15  \n",
       "4             5        4   6  10  10  \n",
       "\n",
       "[5 rows x 33 columns]"
      ]
     },
     "execution_count": 6,
     "metadata": {},
     "output_type": "execute_result"
    }
   ],
   "source": [
    "data.head(5)"
   ]
  },
  {
   "cell_type": "code",
   "execution_count": 7,
   "id": "b218b522",
   "metadata": {
    "execution": {
     "iopub.execute_input": "2025-01-24T15:01:09.023002Z",
     "iopub.status.busy": "2025-01-24T15:01:09.022647Z",
     "iopub.status.idle": "2025-01-24T15:01:09.544979Z",
     "shell.execute_reply": "2025-01-24T15:01:09.543848Z"
    },
    "papermill": {
     "duration": 0.531087,
     "end_time": "2025-01-24T15:01:09.546919",
     "exception": false,
     "start_time": "2025-01-24T15:01:09.015832",
     "status": "completed"
    },
    "tags": []
   },
   "outputs": [
    {
     "data": {
      "image/png": "[encoded data removed]",
      "text/plain": [
       "<Figure size 800x600 with 1 Axes>"
      ]
     },
     "metadata": {},
     "output_type": "display_data"
    }
   ],
   "source": [
    "plt.figure(figsize=(8,6))\n",
    "sns.boxplot(data)\n",
    "plt.show()"
   ]
  },
  {
   "cell_type": "markdown",
   "id": "b0fdc46d",
   "metadata": {
    "papermill": {
     "duration": 0.006238,
     "end_time": "2025-01-24T15:01:09.559990",
     "exception": false,
     "start_time": "2025-01-24T15:01:09.553752",
     "status": "completed"
    },
    "tags": []
   },
   "source": [
    "# Məlumatın Hazırlanması"
   ]
  },
  {
   "cell_type": "code",
   "execution_count": 8,
   "id": "84ab361d",
   "metadata": {
    "execution": {
     "iopub.execute_input": "2025-01-24T15:01:09.574869Z",
     "iopub.status.busy": "2025-01-24T15:01:09.574506Z",
     "iopub.status.idle": "2025-01-24T15:01:09.579504Z",
     "shell.execute_reply": "2025-01-24T15:01:09.578316Z"
    },
    "papermill": {
     "duration": 0.014393,
     "end_time": "2025-01-24T15:01:09.581320",
     "exception": false,
     "start_time": "2025-01-24T15:01:09.566927",
     "status": "completed"
    },
    "tags": []
   },
   "outputs": [],
   "source": [
    "def encoder(data):\n",
    "    encoder = LabelEncoder()\n",
    "    for col in data.columns:\n",
    "        if data[col].dtype == 'object':\n",
    "            data[col] = encoder.fit_transform(data[col])\n",
    "    return data"
   ]
  },
  {
   "cell_type": "code",
   "execution_count": 9,
   "id": "723faada",
   "metadata": {
    "execution": {
     "iopub.execute_input": "2025-01-24T15:01:09.596605Z",
     "iopub.status.busy": "2025-01-24T15:01:09.596207Z",
     "iopub.status.idle": "2025-01-24T15:01:09.611832Z",
     "shell.execute_reply": "2025-01-24T15:01:09.610576Z"
    },
    "papermill": {
     "duration": 0.025095,
     "end_time": "2025-01-24T15:01:09.613484",
     "exception": false,
     "start_time": "2025-01-24T15:01:09.588389",
     "status": "completed"
    },
    "tags": []
   },
   "outputs": [],
   "source": [
    "data = encoder(data)"
   ]
  },
  {
   "cell_type": "code",
   "execution_count": 10,
   "id": "5c7faa33",
   "metadata": {
    "execution": {
     "iopub.execute_input": "2025-01-24T15:01:09.628147Z",
     "iopub.status.busy": "2025-01-24T15:01:09.627736Z",
     "iopub.status.idle": "2025-01-24T15:01:09.633647Z",
     "shell.execute_reply": "2025-01-24T15:01:09.632530Z"
    },
    "papermill": {
     "duration": 0.015034,
     "end_time": "2025-01-24T15:01:09.635327",
     "exception": false,
     "start_time": "2025-01-24T15:01:09.620293",
     "status": "completed"
    },
    "tags": []
   },
   "outputs": [],
   "source": [
    "def normalizer(data):\n",
    "    Q1 = data.quantile(0.25)\n",
    "    Q3 = data.quantile(0.75)\n",
    "    IQR = Q3 - Q1\n",
    "    upper_bound = Q3 + 1.5 * IQR\n",
    "    lower_bound = Q1 - 1.5 * IQR\n",
    "    for col in data.columns:\n",
    "        data[col] = data[col].apply(lambda x: upper_bound[col] if x > upper_bound[col] else (lower_bound[col]) if x < lower_bound[col] else x )\n",
    "        data = pd.DataFrame(data)\n",
    "    return data"
   ]
  },
  {
   "cell_type": "code",
   "execution_count": 11,
   "id": "58e68249",
   "metadata": {
    "execution": {
     "iopub.execute_input": "2025-01-24T15:01:09.650469Z",
     "iopub.status.busy": "2025-01-24T15:01:09.649869Z",
     "iopub.status.idle": "2025-01-24T15:01:09.745902Z",
     "shell.execute_reply": "2025-01-24T15:01:09.744733Z"
    },
    "papermill": {
     "duration": 0.106116,
     "end_time": "2025-01-24T15:01:09.748252",
     "exception": false,
     "start_time": "2025-01-24T15:01:09.642136",
     "status": "completed"
    },
    "tags": []
   },
   "outputs": [],
   "source": [
    "data = normalizer(data)"
   ]
  },
  {
   "cell_type": "code",
   "execution_count": 12,
   "id": "57121722",
   "metadata": {
    "execution": {
     "iopub.execute_input": "2025-01-24T15:01:09.763596Z",
     "iopub.status.busy": "2025-01-24T15:01:09.763183Z",
     "iopub.status.idle": "2025-01-24T15:01:09.767947Z",
     "shell.execute_reply": "2025-01-24T15:01:09.766913Z"
    },
    "papermill": {
     "duration": 0.014434,
     "end_time": "2025-01-24T15:01:09.770016",
     "exception": false,
     "start_time": "2025-01-24T15:01:09.755582",
     "status": "completed"
    },
    "tags": []
   },
   "outputs": [],
   "source": [
    "def scaler(data):\n",
    "    scaler = StandardScaler()\n",
    "    data_scaled = scaler.fit_transform(data)\n",
    "    return pd.DataFrame(data_scaled, columns = data.columns)"
   ]
  },
  {
   "cell_type": "code",
   "execution_count": 13,
   "id": "9c1007a7",
   "metadata": {
    "execution": {
     "iopub.execute_input": "2025-01-24T15:01:09.784708Z",
     "iopub.status.busy": "2025-01-24T15:01:09.784313Z",
     "iopub.status.idle": "2025-01-24T15:01:09.814979Z",
     "shell.execute_reply": "2025-01-24T15:01:09.813728Z"
    },
    "papermill": {
     "duration": 0.040117,
     "end_time": "2025-01-24T15:01:09.816953",
     "exception": false,
     "start_time": "2025-01-24T15:01:09.776836",
     "status": "completed"
    },
    "tags": []
   },
   "outputs": [],
   "source": [
    "data = scaler(data)"
   ]
  },
  {
   "cell_type": "markdown",
   "id": "e5b18ab5",
   "metadata": {
    "papermill": {
     "duration": 0.006368,
     "end_time": "2025-01-24T15:01:09.830208",
     "exception": false,
     "start_time": "2025-01-24T15:01:09.823840",
     "status": "completed"
    },
    "tags": []
   },
   "source": [
    "# Modelin Qurulmasi"
   ]
  },
  {
   "cell_type": "code",
   "execution_count": 14,
   "id": "bdadbf95",
   "metadata": {
    "execution": {
     "iopub.execute_input": "2025-01-24T15:01:09.845261Z",
     "iopub.status.busy": "2025-01-24T15:01:09.844899Z",
     "iopub.status.idle": "2025-01-24T15:01:09.853188Z",
     "shell.execute_reply": "2025-01-24T15:01:09.851812Z"
    },
    "papermill": {
     "duration": 0.018371,
     "end_time": "2025-01-24T15:01:09.855339",
     "exception": false,
     "start_time": "2025-01-24T15:01:09.836968",
     "status": "completed"
    },
    "tags": []
   },
   "outputs": [],
   "source": [
    "X = data.drop(columns='G3', axis=1)\n",
    "y = data['G3']"
   ]
  },
  {
   "cell_type": "code",
   "execution_count": 15,
   "id": "57a9842a",
   "metadata": {
    "execution": {
     "iopub.execute_input": "2025-01-24T15:01:09.870517Z",
     "iopub.status.busy": "2025-01-24T15:01:09.870133Z",
     "iopub.status.idle": "2025-01-24T15:01:09.878746Z",
     "shell.execute_reply": "2025-01-24T15:01:09.877380Z"
    },
    "papermill": {
     "duration": 0.018177,
     "end_time": "2025-01-24T15:01:09.880662",
     "exception": false,
     "start_time": "2025-01-24T15:01:09.862485",
     "status": "completed"
    },
    "tags": []
   },
   "outputs": [],
   "source": [
    "X_train, X_test, y_train, y_test = train_test_split(X,y,test_size=0.2,random_state=42)"
   ]
  },
  {
   "cell_type": "code",
   "execution_count": 16,
   "id": "cf3ce9c9",
   "metadata": {
    "execution": {
     "iopub.execute_input": "2025-01-24T15:01:09.895612Z",
     "iopub.status.busy": "2025-01-24T15:01:09.895223Z",
     "iopub.status.idle": "2025-01-24T15:01:10.089754Z",
     "shell.execute_reply": "2025-01-24T15:01:10.087453Z"
    },
    "papermill": {
     "duration": 0.204129,
     "end_time": "2025-01-24T15:01:10.091646",
     "exception": false,
     "start_time": "2025-01-24T15:01:09.887517",
     "status": "completed"
    },
    "tags": []
   },
   "outputs": [
    {
     "name": "stdout",
     "output_type": "stream",
     "text": [
      "En Yaxsi Parametr:\n",
      "{'alpha': 0.1}\n"
     ]
    }
   ],
   "source": [
    "model = Lasso()\n",
    "param_grid = {\n",
    "    'alpha': [0.1, 0.5, 1, 5, 10, 50, 100]  # Lasso cəza parametrini fərqli qiymətlərlə yoxlamaq\n",
    "}\n",
    "grid_search = GridSearchCV(estimator = model, param_grid=param_grid, cv=5)\n",
    "grid_search.fit(X_train, y_train)\n",
    "best_params = grid_search.best_params_\n",
    "print(f'En Yaxsi Parametr:\\n{best_params}')"
   ]
  },
  {
   "cell_type": "code",
   "execution_count": 17,
   "id": "0baf83fe",
   "metadata": {
    "execution": {
     "iopub.execute_input": "2025-01-24T15:01:10.106840Z",
     "iopub.status.busy": "2025-01-24T15:01:10.106349Z",
     "iopub.status.idle": "2025-01-24T15:01:10.113178Z",
     "shell.execute_reply": "2025-01-24T15:01:10.111941Z"
    },
    "papermill": {
     "duration": 0.016278,
     "end_time": "2025-01-24T15:01:10.114978",
     "exception": false,
     "start_time": "2025-01-24T15:01:10.098700",
     "status": "completed"
    },
    "tags": []
   },
   "outputs": [],
   "source": [
    "best_model = grid_search.best_estimator_\n",
    "y_pred = best_model.predict(X_test)"
   ]
  },
  {
   "cell_type": "markdown",
   "id": "cb71b475",
   "metadata": {
    "papermill": {
     "duration": 0.006325,
     "end_time": "2025-01-24T15:01:10.128323",
     "exception": false,
     "start_time": "2025-01-24T15:01:10.121998",
     "status": "completed"
    },
    "tags": []
   },
   "source": [
    "# Performansin Qiymetlendirilmesi"
   ]
  },
  {
   "cell_type": "code",
   "execution_count": 18,
   "id": "4e2f3a23",
   "metadata": {
    "execution": {
     "iopub.execute_input": "2025-01-24T15:01:10.143148Z",
     "iopub.status.busy": "2025-01-24T15:01:10.142716Z",
     "iopub.status.idle": "2025-01-24T15:01:10.149815Z",
     "shell.execute_reply": "2025-01-24T15:01:10.148325Z"
    },
    "papermill": {
     "duration": 0.016364,
     "end_time": "2025-01-24T15:01:10.151506",
     "exception": false,
     "start_time": "2025-01-24T15:01:10.135142",
     "status": "completed"
    },
    "tags": []
   },
   "outputs": [
    {
     "name": "stdout",
     "output_type": "stream",
     "text": [
      "R2:\n",
      "79%\n",
      "MSE:\n",
      "0.2029554535964244\n"
     ]
    }
   ],
   "source": [
    "MSE = mean_squared_error(y_test,y_pred)\n",
    "R2 = r2_score(y_test,y_pred)\n",
    "print(f'R2:\\n{R2*100:.0f}%\\nMSE:\\n{MSE}')"
   ]
  },
  {
   "cell_type": "markdown",
   "id": "0af5e67d",
   "metadata": {
    "papermill": {
     "duration": 0.007283,
     "end_time": "2025-01-24T15:01:10.165638",
     "exception": false,
     "start_time": "2025-01-24T15:01:10.158355",
     "status": "completed"
    },
    "tags": []
   },
   "source": [
    "# Visualization"
   ]
  },
  {
   "cell_type": "code",
   "execution_count": 19,
   "id": "3f3047e7",
   "metadata": {
    "execution": {
     "iopub.execute_input": "2025-01-24T15:01:10.180268Z",
     "iopub.status.busy": "2025-01-24T15:01:10.179861Z",
     "iopub.status.idle": "2025-01-24T15:01:10.519476Z",
     "shell.execute_reply": "2025-01-24T15:01:10.518534Z"
    },
    "papermill": {
     "duration": 0.348876,
     "end_time": "2025-01-24T15:01:10.521223",
     "exception": false,
     "start_time": "2025-01-24T15:01:10.172347",
     "status": "completed"
    },
    "tags": []
   },
   "outputs": [
    {
     "data": {
      "image/png": "[encoded data removed]",
      "text/plain": [
       "<Figure size 800x600 with 1 Axes>"
      ]
     },
     "metadata": {},
     "output_type": "display_data"
    }
   ],
   "source": [
    "plt.figure(figsize=(8,6))\n",
    "plt.scatter(y_test,y_pred,marker='o',label='Proqnozlar')\n",
    "plt.plot([y_test.min(),y_test.max()],[y_test.min(),y_test.max()], color='r', linewidth=2, label='Ideal Xett' )\n",
    "plt.title('Lasso Regression')\n",
    "plt.xlabel('Real')\n",
    "plt.ylabel('Proqnoz')\n",
    "plt.legend()\n",
    "plt.grid()\n",
    "plt.show()"
   ]
  },
  {
   "cell_type": "code",
   "execution_count": null,
   "id": "00d26ec2",
   "metadata": {
    "papermill": {
     "duration": 0.007214,
     "end_time": "2025-01-24T15:01:10.535954",
     "exception": false,
     "start_time": "2025-01-24T15:01:10.528740",
     "status": "completed"
    },
    "tags": []
   },
   "outputs": [],
   "source": []
  }
 ],
 "metadata": {
  "kaggle": {
   "accelerator": "none",
   "dataSources": [
    {
     "datasetId": 4312217,
     "sourceId": 7413268,
     "sourceType": "datasetVersion"
    }
   ],
   "dockerImageVersionId": 30839,
   "isGpuEnabled": false,
   "isInternetEnabled": true,
   "language": "python",
   "sourceType": "notebook"
  },
  "kernelspec": {
   "display_name": "Python 3",
   "language": "python",
   "name": "python3"
  },
  "language_info": {
   "codemirror_mode": {
    "name": "ipython",
    "version": 3
   },
   "file_extension": ".py",
   "mimetype": "text/x-python",
   "name": "python",
   "nbconvert_exporter": "python",
   "pygments_lexer": "ipython3",
   "version": "3.10.12"
  },
  "papermill": {
   "default_parameters": {},
   "duration": 9.677586,
   "end_time": "2025-01-24T15:01:11.365669",
   "environment_variables": {},
   "exception": null,
   "input_path": "__notebook__.ipynb",
   "output_path": "__notebook__.ipynb",
   "parameters": {},
   "start_time": "2025-01-24T15:01:01.688083",
   "version": "2.6.0"
  }
 },
 "nbformat": 4,
 "nbformat_minor": 5
}
